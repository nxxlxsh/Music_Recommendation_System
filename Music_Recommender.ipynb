{
 "cells": [
  {
   "cell_type": "code",
   "execution_count": 1,
   "id": "86f084d2",
   "metadata": {},
   "outputs": [],
   "source": [
    "#Importing Libraries\n",
    "import pandas as pd\n",
    "import numpy as np\n",
    "import matplotlib.pyplot as plt"
   ]
  },
  {
   "cell_type": "code",
   "execution_count": 2,
   "id": "57bd126c",
   "metadata": {},
   "outputs": [],
   "source": [
    "#Reading the csv file\n",
    "df=pd.read_csv(\"data.csv\")"
   ]
  },
  {
   "cell_type": "code",
   "execution_count": 3,
   "id": "6ce7ddc7",
   "metadata": {},
   "outputs": [],
   "source": [
    "#Changing the name of the columns\n",
    "df.columns=['Valence', 'Year', 'Acousticness', 'Artists', 'Danceability',\n",
    "       'Duration', 'Energy', 'Explicit', 'Id', 'Instrumentalness', 'Key',\n",
    "       'Liveness', 'Loudness', 'Mode', 'Name', 'Popularity', 'Release_date',\n",
    "       'Speechiness', 'Tempo']"
   ]
  },
  {
   "cell_type": "code",
   "execution_count": 4,
   "id": "5b61e04c",
   "metadata": {},
   "outputs": [
    {
     "data": {
      "text/plain": [
       "Valence             0\n",
       "Year                0\n",
       "Acousticness        0\n",
       "Artists             0\n",
       "Danceability        0\n",
       "Duration            0\n",
       "Energy              0\n",
       "Explicit            0\n",
       "Id                  0\n",
       "Instrumentalness    0\n",
       "Key                 0\n",
       "Liveness            0\n",
       "Loudness            0\n",
       "Mode                0\n",
       "Name                0\n",
       "Popularity          0\n",
       "Release_date        0\n",
       "Speechiness         0\n",
       "Tempo               0\n",
       "dtype: int64"
      ]
     },
     "execution_count": 4,
     "metadata": {},
     "output_type": "execute_result"
    }
   ],
   "source": [
    "#Checking for null values\n",
    "df.isna().sum()"
   ]
  },
  {
   "cell_type": "code",
   "execution_count": 5,
   "id": "e7999503",
   "metadata": {},
   "outputs": [
    {
     "name": "stdout",
     "output_type": "stream",
     "text": [
      "<class 'pandas.core.frame.DataFrame'>\n",
      "RangeIndex: 170653 entries, 0 to 170652\n",
      "Data columns (total 19 columns):\n",
      " #   Column            Non-Null Count   Dtype  \n",
      "---  ------            --------------   -----  \n",
      " 0   Valence           170653 non-null  float64\n",
      " 1   Year              170653 non-null  int64  \n",
      " 2   Acousticness      170653 non-null  float64\n",
      " 3   Artists           170653 non-null  object \n",
      " 4   Danceability      170653 non-null  float64\n",
      " 5   Duration          170653 non-null  int64  \n",
      " 6   Energy            170653 non-null  float64\n",
      " 7   Explicit          170653 non-null  int64  \n",
      " 8   Id                170653 non-null  object \n",
      " 9   Instrumentalness  170653 non-null  float64\n",
      " 10  Key               170653 non-null  int64  \n",
      " 11  Liveness          170653 non-null  float64\n",
      " 12  Loudness          170653 non-null  float64\n",
      " 13  Mode              170653 non-null  int64  \n",
      " 14  Name              170653 non-null  object \n",
      " 15  Popularity        170653 non-null  int64  \n",
      " 16  Release_date      170653 non-null  object \n",
      " 17  Speechiness       170653 non-null  float64\n",
      " 18  Tempo             170653 non-null  float64\n",
      "dtypes: float64(9), int64(6), object(4)\n",
      "memory usage: 24.7+ MB\n"
     ]
    }
   ],
   "source": [
    "df.info()"
   ]
  },
  {
   "cell_type": "code",
   "execution_count": 6,
   "id": "0b048680",
   "metadata": {},
   "outputs": [],
   "source": [
    "df[\"Name\"]=df[\"Name\"].str.lower()\n",
    "df.set_index(\"Name\",inplace=True)"
   ]
  },
  {
   "cell_type": "code",
   "execution_count": 7,
   "id": "316a8a20",
   "metadata": {},
   "outputs": [],
   "source": [
    "df.drop(columns=[\"Artists\",\"Explicit\",\"Id\",\"Release_date\",],axis=1,inplace=True)"
   ]
  },
  {
   "cell_type": "code",
   "execution_count": 9,
   "id": "f8318688",
   "metadata": {},
   "outputs": [],
   "source": [
    "#Selecting top 5000 songs for the recommender system\n",
    "df=df.head(5000)"
   ]
  },
  {
   "cell_type": "code",
   "execution_count": 10,
   "id": "58caf4f5",
   "metadata": {},
   "outputs": [],
   "source": [
    "#Metric for finding similarity\n",
    "from sklearn.metrics.pairwise import cosine_similarity"
   ]
  },
  {
   "cell_type": "code",
   "execution_count": 11,
   "id": "56f57627",
   "metadata": {},
   "outputs": [],
   "source": [
    "#similarity scores\n",
    "similarity_scores=cosine_similarity(df)"
   ]
  },
  {
   "cell_type": "code",
   "execution_count": 12,
   "id": "fe4021f1",
   "metadata": {},
   "outputs": [],
   "source": [
    "#Uncomment to view the imilarity scores\n",
    "# similarity_scores"
   ]
  },
  {
   "cell_type": "code",
   "execution_count": 16,
   "id": "9003211e",
   "metadata": {},
   "outputs": [],
   "source": [
    "#Defining the Recommendation system\n",
    "def recommend(song_name):\n",
    "    #fetching Index\n",
    "    index=np.where(df.index==song_name)[0][0]\n",
    "    similar_items=sorted(list(enumerate(similarity_scores[index])),key=lambda x:x[1],reverse=True)[1:10]\n",
    "    for i in similar_items:\n",
    "        print(df.index[i[0]])"
   ]
  },
  {
   "cell_type": "code",
   "execution_count": 17,
   "id": "997ef1eb",
   "metadata": {},
   "outputs": [
    {
     "name": "stdout",
     "output_type": "stream",
     "text": [
      "gati kridha\n",
      "chopin: scherzo no. 2 in b-flat minor, op. 31\n",
      "gati bali\n",
      "eine kurze weltgeschichte für junge leser: von den anfängen bis zum mittelalter, kapitel 19\n",
      "sorge dich nicht - lebe! - die kunst, zu einem von ängsten und aufregungen befreiten leben zu finden, kapitel 52\n",
      "wie man freunde gewinnt - die kunst, beliebt und einflussreich zu werden, kapitel 57\n",
      "leh ya zaman\n",
      "chopin: barcarolle in f-sharp major, op. 60\n",
      "gati brangta\n"
     ]
    }
   ],
   "source": [
    "#Testing\n",
    "#Please change the song as per your choice(ONLY 5 SIMILAR SONGS WILL BE RECOMMEND)(CAN BE CHANGED)\n",
    "recommend(\"gati wiwaha\")"
   ]
  },
  {
   "cell_type": "code",
   "execution_count": null,
   "id": "65a5af2c",
   "metadata": {},
   "outputs": [],
   "source": []
  }
 ],
 "metadata": {
  "kernelspec": {
   "display_name": "Python 3 (ipykernel)",
   "language": "python",
   "name": "python3"
  },
  "language_info": {
   "codemirror_mode": {
    "name": "ipython",
    "version": 3
   },
   "file_extension": ".py",
   "mimetype": "text/x-python",
   "name": "python",
   "nbconvert_exporter": "python",
   "pygments_lexer": "ipython3",
   "version": "3.9.13"
  }
 },
 "nbformat": 4,
 "nbformat_minor": 5
}
